{
 "cells": [
  {
   "cell_type": "code",
   "execution_count": 1,
   "metadata": {},
   "outputs": [],
   "source": [
    "import torch\n",
    "from torch import nn\n",
    "from torch import optim\n",
    "\n",
    "import pandas as pd\n",
    "import matplotlib.pyplot as plt"
   ]
  },
  {
   "cell_type": "code",
   "execution_count": 2,
   "metadata": {},
   "outputs": [
    {
     "data": {
      "application/vnd.microsoft.datawrangler.viewer.v0+json": {
       "columns": [
        {
         "name": "index",
         "rawType": "int64",
         "type": "integer"
        },
        {
         "name": "Unnamed: 0",
         "rawType": "int64",
         "type": "integer"
        },
        {
         "name": "x",
         "rawType": "float64",
         "type": "float"
        },
        {
         "name": "y",
         "rawType": "float64",
         "type": "float"
        }
       ],
       "conversionMethod": "pd.DataFrame",
       "ref": "e3dd1d2a-86fc-4714-ab27-a822d668950e",
       "rows": [
        [
         "0",
         "0",
         "0.7712703466859457",
         "2.474538221214042"
        ],
        [
         "1",
         "1",
         "0.0635583502860236",
         "1.1927720614354302"
        ],
        [
         "2",
         "2",
         "0.8631034258755935",
         "2.912784302865663"
        ],
        [
         "3",
         "3",
         "0.0254191267440951",
         "1.0785073334211923"
        ],
        [
         "4",
         "4",
         "0.7319939418114051",
         "2.4731639612763603"
        ]
       ],
       "shape": {
        "columns": 3,
        "rows": 5
       }
      },
      "text/html": [
       "<div>\n",
       "<style scoped>\n",
       "    .dataframe tbody tr th:only-of-type {\n",
       "        vertical-align: middle;\n",
       "    }\n",
       "\n",
       "    .dataframe tbody tr th {\n",
       "        vertical-align: top;\n",
       "    }\n",
       "\n",
       "    .dataframe thead th {\n",
       "        text-align: right;\n",
       "    }\n",
       "</style>\n",
       "<table border=\"1\" class=\"dataframe\">\n",
       "  <thead>\n",
       "    <tr style=\"text-align: right;\">\n",
       "      <th></th>\n",
       "      <th>Unnamed: 0</th>\n",
       "      <th>x</th>\n",
       "      <th>y</th>\n",
       "    </tr>\n",
       "  </thead>\n",
       "  <tbody>\n",
       "    <tr>\n",
       "      <th>0</th>\n",
       "      <td>0</td>\n",
       "      <td>0.771270</td>\n",
       "      <td>2.474538</td>\n",
       "    </tr>\n",
       "    <tr>\n",
       "      <th>1</th>\n",
       "      <td>1</td>\n",
       "      <td>0.063558</td>\n",
       "      <td>1.192772</td>\n",
       "    </tr>\n",
       "    <tr>\n",
       "      <th>2</th>\n",
       "      <td>2</td>\n",
       "      <td>0.863103</td>\n",
       "      <td>2.912784</td>\n",
       "    </tr>\n",
       "    <tr>\n",
       "      <th>3</th>\n",
       "      <td>3</td>\n",
       "      <td>0.025419</td>\n",
       "      <td>1.078507</td>\n",
       "    </tr>\n",
       "    <tr>\n",
       "      <th>4</th>\n",
       "      <td>4</td>\n",
       "      <td>0.731994</td>\n",
       "      <td>2.473164</td>\n",
       "    </tr>\n",
       "  </tbody>\n",
       "</table>\n",
       "</div>"
      ],
      "text/plain": [
       "   Unnamed: 0         x         y\n",
       "0           0  0.771270  2.474538\n",
       "1           1  0.063558  1.192772\n",
       "2           2  0.863103  2.912784\n",
       "3           3  0.025419  1.078507\n",
       "4           4  0.731994  2.473164"
      ]
     },
     "execution_count": 2,
     "metadata": {},
     "output_type": "execute_result"
    }
   ],
   "source": [
    "df = pd.read_csv('dataset/train.csv')\n",
    "df.head()"
   ]
  },
  {
   "cell_type": "code",
   "execution_count": 3,
   "metadata": {},
   "outputs": [],
   "source": [
    "x_train = torch.tensor(df['x'].values, dtype=torch.float32).unsqueeze(1)\n",
    "y_train = torch.tensor(df['y'].values, dtype=torch.float32)"
   ]
  },
  {
   "cell_type": "code",
   "execution_count": 4,
   "metadata": {},
   "outputs": [
    {
     "data": {
      "application/vnd.microsoft.datawrangler.viewer.v0+json": {
       "columns": [
        {
         "name": "index",
         "rawType": "int64",
         "type": "integer"
        },
        {
         "name": "Unnamed: 0",
         "rawType": "int64",
         "type": "integer"
        },
        {
         "name": "x",
         "rawType": "float64",
         "type": "float"
        },
        {
         "name": "y",
         "rawType": "float64",
         "type": "float"
        }
       ],
       "conversionMethod": "pd.DataFrame",
       "ref": "2b1d1e10-037b-46cd-a7dc-71696c11e642",
       "rows": [
        [
         "0",
         "0",
         "0.3046137691733707",
         "1.615250559340844"
        ],
        [
         "1",
         "1",
         "0.1559945203362026",
         "1.34770029782358"
        ],
        [
         "2",
         "2",
         "0.662522284353982",
         "2.2341058232284903"
        ],
        [
         "3",
         "3",
         "0.1078914269933044",
         "1.2985011788902112"
        ],
        [
         "4",
         "4",
         "0.909320402078782",
         "2.8938341074262413"
        ]
       ],
       "shape": {
        "columns": 3,
        "rows": 5
       }
      },
      "text/html": [
       "<div>\n",
       "<style scoped>\n",
       "    .dataframe tbody tr th:only-of-type {\n",
       "        vertical-align: middle;\n",
       "    }\n",
       "\n",
       "    .dataframe tbody tr th {\n",
       "        vertical-align: top;\n",
       "    }\n",
       "\n",
       "    .dataframe thead th {\n",
       "        text-align: right;\n",
       "    }\n",
       "</style>\n",
       "<table border=\"1\" class=\"dataframe\">\n",
       "  <thead>\n",
       "    <tr style=\"text-align: right;\">\n",
       "      <th></th>\n",
       "      <th>Unnamed: 0</th>\n",
       "      <th>x</th>\n",
       "      <th>y</th>\n",
       "    </tr>\n",
       "  </thead>\n",
       "  <tbody>\n",
       "    <tr>\n",
       "      <th>0</th>\n",
       "      <td>0</td>\n",
       "      <td>0.304614</td>\n",
       "      <td>1.615251</td>\n",
       "    </tr>\n",
       "    <tr>\n",
       "      <th>1</th>\n",
       "      <td>1</td>\n",
       "      <td>0.155995</td>\n",
       "      <td>1.347700</td>\n",
       "    </tr>\n",
       "    <tr>\n",
       "      <th>2</th>\n",
       "      <td>2</td>\n",
       "      <td>0.662522</td>\n",
       "      <td>2.234106</td>\n",
       "    </tr>\n",
       "    <tr>\n",
       "      <th>3</th>\n",
       "      <td>3</td>\n",
       "      <td>0.107891</td>\n",
       "      <td>1.298501</td>\n",
       "    </tr>\n",
       "    <tr>\n",
       "      <th>4</th>\n",
       "      <td>4</td>\n",
       "      <td>0.909320</td>\n",
       "      <td>2.893834</td>\n",
       "    </tr>\n",
       "  </tbody>\n",
       "</table>\n",
       "</div>"
      ],
      "text/plain": [
       "   Unnamed: 0         x         y\n",
       "0           0  0.304614  1.615251\n",
       "1           1  0.155995  1.347700\n",
       "2           2  0.662522  2.234106\n",
       "3           3  0.107891  1.298501\n",
       "4           4  0.909320  2.893834"
      ]
     },
     "execution_count": 4,
     "metadata": {},
     "output_type": "execute_result"
    }
   ],
   "source": [
    "df = pd.read_csv('dataset/test.csv')\n",
    "df.head()"
   ]
  },
  {
   "cell_type": "code",
   "execution_count": 5,
   "metadata": {},
   "outputs": [],
   "source": [
    "x_test = torch.tensor(df['x'].values, dtype=torch.float32).unsqueeze(1)\n",
    "y_test = torch.tensor(df['y'].values, dtype=torch.float32)"
   ]
  },
  {
   "cell_type": "code",
   "execution_count": 6,
   "metadata": {},
   "outputs": [
    {
     "data": {
      "text/plain": [
       "<matplotlib.collections.PathCollection at 0x1114b8550>"
      ]
     },
     "execution_count": 6,
     "metadata": {},
     "output_type": "execute_result"
    },
    {
     "data": {
      "image/png": "[encoded data removed]",
      "text/plain": [
       "<Figure size 640x480 with 1 Axes>"
      ]
     },
     "metadata": {},
     "output_type": "display_data"
    }
   ],
   "source": [
    "plt.scatter(x_train, y_train, label='train')\n",
    "plt.scatter(x_test, y_test, label='test')"
   ]
  },
  {
   "cell_type": "code",
   "execution_count": 7,
   "metadata": {},
   "outputs": [
    {
     "data": {
      "text/plain": [
       "Linear(in_features=1, out_features=1, bias=True)"
      ]
     },
     "execution_count": 7,
     "metadata": {},
     "output_type": "execute_result"
    }
   ],
   "source": [
    "model = nn.Linear(1, 1)\n",
    "model"
   ]
  },
  {
   "cell_type": "code",
   "execution_count": 8,
   "metadata": {},
   "outputs": [],
   "source": [
    "loss_fn = nn.MSELoss()"
   ]
  },
  {
   "cell_type": "code",
   "execution_count": 9,
   "metadata": {},
   "outputs": [
    {
     "data": {
      "text/plain": [
       "<generator object Module.parameters at 0x111578580>"
      ]
     },
     "execution_count": 9,
     "metadata": {},
     "output_type": "execute_result"
    }
   ],
   "source": [
    "model.parameters()"
   ]
  },
  {
   "cell_type": "code",
   "execution_count": 10,
   "metadata": {},
   "outputs": [
    {
     "name": "stdout",
     "output_type": "stream",
     "text": [
      "weight Parameter containing:\n",
      "tensor([[0.0897]], requires_grad=True)\n",
      "bias Parameter containing:\n",
      "tensor([-0.0936], requires_grad=True)\n"
     ]
    }
   ],
   "source": [
    "for name, param in model.named_parameters():\n",
    "    print(name, param)"
   ]
  },
  {
   "cell_type": "code",
   "execution_count": 11,
   "metadata": {},
   "outputs": [],
   "source": [
    "optimizer = optim.SGD(model.parameters(), lr=0.1)"
   ]
  },
  {
   "cell_type": "code",
   "execution_count": 12,
   "metadata": {},
   "outputs": [
    {
     "name": "stdout",
     "output_type": "stream",
     "text": [
      "4.359279155731201\n",
      "2.508296012878418\n",
      "1.4611231088638306\n",
      "0.868193507194519\n",
      "0.5319777727127075\n",
      "0.3408573865890503\n",
      "0.23175959289073944\n",
      "0.16904301941394806\n",
      "0.13256695866584778\n",
      "0.11094963550567627\n",
      "0.09775860607624054\n",
      "0.08935825526714325\n",
      "0.08369338512420654\n",
      "0.07960174232721329\n",
      "0.07642577588558197\n",
      "0.07379314303398132\n",
      "0.07149265706539154\n",
      "0.0694042295217514\n",
      "0.06745926290750504\n",
      "0.06561829894781113\n",
      "0.06385837495326996\n",
      "0.06216578930616379\n",
      "0.060532212257385254\n",
      "0.05895229056477547\n",
      "0.057422347366809845\n",
      "0.05593978241086006\n",
      "0.054502516984939575\n",
      "0.05310880392789841\n",
      "0.05175717920064926\n",
      "0.050446219742298126\n",
      "0.049174658954143524\n",
      "0.04794127866625786\n",
      "0.04674490913748741\n",
      "0.04558442160487175\n",
      "0.044458746910095215\n",
      "0.04336683079600334\n",
      "0.04230766370892525\n",
      "0.04128025844693184\n",
      "0.04028366878628731\n",
      "0.039316948503255844\n",
      "0.03837921842932701\n",
      "0.03746960312128067\n",
      "0.03658727928996086\n",
      "0.035731397569179535\n",
      "0.03490119054913521\n",
      "0.034095872193574905\n",
      "0.03331470489501953\n",
      "0.03255695849657059\n",
      "0.031821928918361664\n",
      "0.031108945608139038\n",
      "0.030417343601584435\n",
      "0.02974647656083107\n",
      "0.02909572795033455\n",
      "0.028464486822485924\n",
      "0.027852177619934082\n",
      "0.02725823223590851\n",
      "0.026682093739509583\n",
      "0.02612323686480522\n",
      "0.02558114007115364\n",
      "0.0250552948564291\n",
      "0.0245452132076025\n",
      "0.024050425738096237\n",
      "0.023570479825139046\n",
      "0.02310493029654026\n",
      "0.022653335705399513\n",
      "0.022215286269783974\n",
      "0.021790357306599617\n",
      "0.021378185600042343\n",
      "0.02097836323082447\n",
      "0.02059052884578705\n",
      "0.02021433785557747\n",
      "0.019849425181746483\n",
      "0.019495444372296333\n",
      "0.019152089953422546\n",
      "0.018819015473127365\n",
      "0.018495934084057808\n",
      "0.0181825440376997\n",
      "0.01787855103611946\n",
      "0.01758367381989956\n",
      "0.017297644168138504\n",
      "0.017020178958773613\n",
      "0.016751045361161232\n",
      "0.016489975154399872\n",
      "0.016236737370491028\n",
      "0.01599109172821045\n",
      "0.01575280912220478\n",
      "0.01552167534828186\n",
      "0.01529747061431408\n",
      "0.015079992823302746\n",
      "0.014869032427668571\n",
      "0.014664394780993462\n",
      "0.014465895481407642\n",
      "0.01427335012704134\n",
      "0.01408658642321825\n",
      "0.013905415311455727\n",
      "0.013729667291045189\n",
      "0.013559198006987572\n",
      "0.013393839821219444\n",
      "0.01323343813419342\n",
      "0.013077845796942711\n",
      "0.012926921248435974\n",
      "0.012780526652932167\n",
      "0.0126385148614645\n",
      "0.012500761076807976\n",
      "0.012367146089673042\n",
      "0.012237531132996082\n",
      "0.012111802585422993\n",
      "0.011989847756922245\n",
      "0.011871546506881714\n",
      "0.011756794527173042\n",
      "0.011645480059087276\n",
      "0.01153750903904438\n",
      "0.011432768777012825\n",
      "0.011331174522638321\n",
      "0.011232627555727959\n",
      "0.011137033812701702\n",
      "0.011044306680560112\n",
      "0.010954359546303749\n",
      "0.010867103934288025\n",
      "0.010782474651932716\n",
      "0.010700376704335213\n",
      "0.010620740242302418\n",
      "0.010543492622673512\n",
      "0.010468566790223122\n",
      "0.010395881719887257\n",
      "0.010325375944375992\n",
      "0.010256990790367126\n",
      "0.010190648958086967\n",
      "0.010126298293471336\n",
      "0.010063881054520607\n",
      "0.010003332979977131\n",
      "0.009944600984454155\n",
      "0.009887628257274628\n",
      "0.009832370094954967\n",
      "0.0097787631675601\n",
      "0.00972676370292902\n",
      "0.00967632420361042\n",
      "0.009627397172152996\n",
      "0.009579939767718315\n",
      "0.009533900767564774\n",
      "0.009489241056144238\n",
      "0.009445929899811745\n",
      "0.009403908625245094\n",
      "0.009363150224089622\n",
      "0.009323612786829472\n",
      "0.00928526185452938\n",
      "0.00924806110560894\n",
      "0.009211975149810314\n",
      "0.00917697325348854\n",
      "0.009143020026385784\n",
      "0.009110087528824806\n",
      "0.009078137576580048\n",
      "0.009047148749232292\n",
      "0.009017089381814003\n",
      "0.008987928740680218\n",
      "0.008959643542766571\n",
      "0.00893220491707325\n",
      "0.008905594237148762\n",
      "0.00887977983802557\n",
      "0.008854733780026436\n",
      "0.008830445818603039\n",
      "0.008806881494820118\n",
      "0.00878402590751648\n",
      "0.008761855773627758\n",
      "0.008740348741412163\n",
      "0.008719486184418201\n",
      "0.00869925506412983\n",
      "0.008679622784256935\n",
      "0.008660581894218922\n",
      "0.008642114698886871\n",
      "0.008624200709164143\n",
      "0.008606819435954094\n",
      "0.008589966222643852\n",
      "0.008573615923523903\n",
      "0.008557753637433052\n",
      "0.008542366325855255\n",
      "0.008527444675564766\n",
      "0.00851296354085207\n",
      "0.008498921990394592\n",
      "0.008485300466418266\n",
      "0.008472086861729622\n",
      "0.008459270931780338\n",
      "0.008446839638054371\n",
      "0.00843478087335825\n",
      "0.008423077873885632\n",
      "0.00841173343360424\n",
      "0.00840072613209486\n",
      "0.008390049450099468\n",
      "0.00837969034910202\n",
      "0.008369644172489643\n",
      "0.008359899744391441\n",
      "0.008350446820259094\n",
      "0.00834127888083458\n",
      "0.008332383818924427\n",
      "0.008323756977915764\n",
      "0.00831538811326027\n",
      "0.008307267911732197\n",
      "0.008299391716718674\n",
      "0.00829175766557455\n",
      "0.008284345269203186\n",
      "0.008277158252894878\n",
      "0.008270184509456158\n",
      "0.008263424038887024\n",
      "0.008256860077381134\n",
      "0.008250500075519085\n",
      "0.008244326338171959\n",
      "0.00823834165930748\n",
      "0.008232531137764454\n",
      "0.008226901292800903\n",
      "0.008221435360610485\n",
      "0.0082161333411932\n",
      "0.008210992440581322\n",
      "0.008206002414226532\n",
      "0.00820116512477398\n",
      "0.008196474984288216\n",
      "0.008191918954253197\n",
      "0.00818750262260437\n",
      "0.008183218538761139\n",
      "0.008179065771400928\n",
      "0.008175035007297993\n",
      "0.008171124383807182\n",
      "0.008167331106960773\n",
      "0.008163655176758766\n",
      "0.008160090073943138\n",
      "0.008156625553965569\n",
      "0.008153269067406654\n",
      "0.008150008507072926\n",
      "0.008146852254867554\n",
      "0.008143787272274494\n",
      "0.008140815421938896\n",
      "0.008137930184602737\n",
      "0.008135136216878891\n",
      "0.008132420480251312\n",
      "0.008129790425300598\n",
      "0.008127236738801003\n",
      "0.00812476221472025\n",
      "0.008122359402477741\n",
      "0.008120027370750904\n",
      "0.008117769844830036\n",
      "0.008115576580166817\n",
      "0.00811344850808382\n",
      "0.008111385628581047\n",
      "0.008109387941658497\n",
      "0.008107444271445274\n",
      "0.008105563931167126\n",
      "0.00810373667627573\n",
      "0.008101964369416237\n",
      "0.008100247010588646\n",
      "0.008098578080534935\n",
      "0.008096965029835701\n",
      "0.008095393888652325\n",
      "0.008093871176242828\n",
      "0.008092397823929787\n",
      "0.008090966381132603\n",
      "0.008089576847851276\n",
      "0.008088230155408382\n",
      "0.00808692630380392\n",
      "0.008085655979812145\n",
      "0.008084426634013653\n",
      "0.008083232678472996\n",
      "0.008082076907157898\n",
      "0.008080953732132912\n",
      "0.00807986594736576\n",
      "0.008078810758888721\n",
      "0.008077787235379219\n",
      "0.008076794445514679\n",
      "0.008075828664004803\n",
      "0.008074894547462463\n",
      "0.008073987439274788\n",
      "0.008073109202086926\n",
      "0.008072254247963428\n",
      "0.00807142723351717\n",
      "0.008070625364780426\n",
      "0.008069844916462898\n",
      "0.00806909054517746\n",
      "0.008068357594311237\n",
      "0.00806764978915453\n",
      "0.00806695781648159\n",
      "0.008066290989518166\n",
      "0.008065639063715935\n",
      "0.008065012283623219\n",
      "0.008064399473369122\n",
      "0.00806380808353424\n",
      "0.008063232526183128\n",
      "0.008062675595283508\n",
      "0.008062136359512806\n",
      "0.008061614818871021\n",
      "0.008061105385422707\n",
      "0.008060610853135586\n",
      "0.008060132153332233\n",
      "0.008059668354690075\n",
      "0.008059216663241386\n",
      "0.008058780804276466\n",
      "0.00805835984647274\n",
      "0.008057949133217335\n",
      "0.008057547733187675\n",
      "0.008057164028286934\n",
      "0.008056788705289364\n",
      "0.008056426420807838\n",
      "0.008056074380874634\n",
      "0.008055726997554302\n",
      "0.008055396378040314\n",
      "0.008055074140429497\n",
      "0.008054764941334724\n",
      "0.00805445946753025\n",
      "0.008054166100919247\n",
      "0.00805388018488884\n",
      "0.008053603582084179\n",
      "0.008053334429860115\n",
      "0.008053073659539223\n",
      "0.008052823133766651\n",
      "0.008052578195929527\n",
      "0.008052338846027851\n",
      "0.008052111603319645\n",
      "0.008051884360611439\n",
      "0.008051669225096703\n",
      "0.00805145874619484\n",
      "0.008051256649196148\n",
      "0.00805105734616518\n",
      "0.008050864562392235\n",
      "0.008050680160522461\n",
      "0.008050498552620411\n",
      "0.008050323463976383\n",
      "0.00805015116930008\n",
      "0.008049987256526947\n",
      "0.008049828931689262\n",
      "0.008049672469496727\n",
      "0.008049523457884789\n",
      "0.008049378171563148\n",
      "0.008049235679209232\n",
      "0.00804909598082304\n",
      "0.00804896466434002\n",
      "0.008048835210502148\n",
      "0.008048711344599724\n",
      "0.008048590272665024\n",
      "0.008048471994698048\n",
      "0.008048360235989094\n",
      "0.008048245683312416\n",
      "0.00804813951253891\n",
      "0.008048031479120255\n",
      "0.00804793369024992\n",
      "0.008047834038734436\n",
      "0.008047740906476974\n",
      "0.008047646842896938\n",
      "0.0080475565046072\n",
      "0.008047469891607761\n",
      "0.008047386072576046\n",
      "0.008047303184866905\n",
      "0.008047224953770638\n",
      "0.00804714672267437\n",
      "0.0080470722168684\n",
      "0.008046997711062431\n",
      "0.008046930655837059\n",
      "0.008046860806643963\n",
      "0.008046796545386314\n",
      "0.00804673321545124\n",
      "0.008046668954193592\n",
      "0.008046610280871391\n",
      "0.008046550676226616\n",
      "0.008046493865549564\n",
      "0.008046437054872513\n",
      "0.00804638396948576\n",
      "0.00804633367806673\n",
      "0.008046282455325127\n",
      "0.008046234957873821\n",
      "0.008046187460422516\n",
      "0.008046142756938934\n",
      "0.008046098053455353\n",
      "0.008046052418649197\n",
      "0.008046013303101063\n",
      "0.008045971393585205\n",
      "0.008045932278037071\n",
      "0.008045895025134087\n",
      "0.008045856840908527\n",
      "0.008045819588005543\n",
      "0.008045783266425133\n",
      "0.008045750670135021\n",
      "0.008045719936490059\n",
      "0.008045686408877373\n",
      "0.008045654743909836\n",
      "0.008045626804232597\n",
      "0.008045597933232784\n",
      "0.008045567199587822\n",
      "0.008045542053878307\n",
      "0.008045514114201069\n",
      "0.008045487105846405\n",
      "0.008045466616749763\n",
      "0.008045442402362823\n",
      "0.008045416325330734\n",
      "0.008045393973588943\n",
      "0.008045373484492302\n",
      "0.008045349270105362\n",
      "0.00804532878100872\n",
      "0.008045309223234653\n",
      "0.008045291528105736\n",
      "0.008045271039009094\n",
      "0.008045250549912453\n",
      "0.00804523192346096\n",
      "0.008045217022299767\n",
      "0.008045202121138573\n",
      "0.00804518349468708\n",
      "0.008045166730880737\n",
      "0.008045153692364693\n",
      "0.008045138791203499\n",
      "0.008045122027397156\n",
      "0.008045108988881111\n",
      "0.008045095019042492\n",
      "0.008045082911849022\n",
      "0.008045069873332977\n",
      "0.008045056834816933\n",
      "0.008045045658946037\n",
      "0.008045030757784843\n",
      "0.008045021444559097\n",
      "0.008045011200010777\n",
      "0.008044998161494732\n",
      "0.008044990710914135\n",
      "0.008044980466365814\n",
      "0.008044970221817493\n",
      "0.008044962771236897\n",
      "0.008044952526688576\n",
      "0.008044944144785404\n",
      "0.008044937625527382\n",
      "0.008044927380979061\n",
      "0.008044916205108166\n",
      "0.008044909685850143\n",
      "0.00804490502923727\n",
      "0.008044895716011524\n",
      "0.008044889196753502\n",
      "0.00804488081485033\n",
      "0.008044874295592308\n",
      "0.008044866845011711\n",
      "0.008044863119721413\n",
      "0.008044855669140816\n",
      "0.008044848218560219\n",
      "0.008044841699302197\n",
      "0.008044838905334473\n",
      "0.00804483238607645\n",
      "0.008044826798141003\n",
      "0.008044823072850704\n",
      "0.008044818416237831\n",
      "0.008044814690947533\n",
      "0.008044809103012085\n",
      "0.008044809103012085\n",
      "0.008044799789786339\n",
      "0.008044795133173466\n",
      "0.008044789545238018\n",
      "0.008044788613915443\n",
      "0.008044782094657421\n",
      "0.008044778369367123\n",
      "0.00804477371275425\n",
      "0.0080447718501091\n",
      "0.008044767193496227\n",
      "0.008044766262173653\n",
      "0.00804476160556078\n",
      "0.008044758811593056\n",
      "0.008044754154980183\n",
      "0.008044752292335033\n",
      "0.008044748567044735\n",
      "0.00804474763572216\n",
      "0.008044743910431862\n",
      "0.008044742047786713\n",
      "0.008044740185141563\n",
      "0.008044733665883541\n",
      "0.00804473552852869\n",
      "0.008044731803238392\n",
      "0.008044729009270668\n",
      "0.008044729009270668\n",
      "0.00804472528398037\n",
      "0.008044722490012646\n",
      "0.00804472342133522\n",
      "0.008044715970754623\n",
      "0.008044716902077198\n",
      "0.008044717833399773\n",
      "0.008044715039432049\n",
      "0.008044712245464325\n",
      "0.008044710382819176\n",
      "0.008044706657528877\n",
      "0.008044704794883728\n",
      "0.008044705726206303\n",
      "0.008044704794883728\n",
      "0.00804470106959343\n",
      "0.008044702000916004\n",
      "0.008044700138270855\n",
      "0.008044696412980556\n",
      "0.008044697344303131\n",
      "0.008044696412980556\n",
      "0.008044694550335407\n",
      "0.008044693619012833\n",
      "0.008044691756367683\n",
      "0.008044693619012833\n",
      "0.008044691756367683\n",
      "0.008044689893722534\n",
      "0.008044688031077385\n",
      "0.008044684305787086\n",
      "0.008044688031077385\n",
      "0.00804468709975481\n",
      "0.008044685237109661\n",
      "0.008044682443141937\n",
      "0.008044682443141937\n",
      "0.008044682443141937\n"
     ]
    }
   ],
   "source": [
    "N = 500\n",
    "loss_hist = []\n",
    "for iter in range(N):\n",
    "    yp = model(x_train)\n",
    "    loss = loss_fn(yp.squeeze(), y_train)\n",
    "    loss.backward()\n",
    "    optimizer.step()\n",
    "    optimizer.zero_grad()\n",
    "    loss_hist.append(loss.item())\n",
    "    print(loss.item())"
   ]
  },
  {
   "cell_type": "code",
   "execution_count": 13,
   "metadata": {},
   "outputs": [
    {
     "data": {
      "text/plain": [
       "<matplotlib.legend.Legend at 0x114e627b0>"
      ]
     },
     "execution_count": 13,
     "metadata": {},
     "output_type": "execute_result"
    },
    {
     "data": {
      "image/png": "[encoded data removed]",
      "text/plain": [
       "<Figure size 640x480 with 1 Axes>"
      ]
     },
     "metadata": {},
     "output_type": "display_data"
    }
   ],
   "source": [
    "x_viz = torch.linspace(x_train.min(), x_train.max(), 100).unsqueeze(1)\n",
    "y_viz = model(x_viz)\n",
    "\n",
    "plt.scatter(x_train, y_train, label='train')\n",
    "plt.plot(x_viz.detach(), y_viz.detach(), 'r')\n",
    "plt.legend()"
   ]
  },
  {
   "cell_type": "code",
   "execution_count": 14,
   "metadata": {},
   "outputs": [
    {
     "data": {
      "text/plain": [
       "[<matplotlib.lines.Line2D at 0x114fc1e50>]"
      ]
     },
     "execution_count": 14,
     "metadata": {},
     "output_type": "execute_result"
    },
    {
     "data": {
      "image/png": "[encoded data removed]",
      "text/plain": [
       "<Figure size 640x480 with 1 Axes>"
      ]
     },
     "metadata": {},
     "output_type": "display_data"
    }
   ],
   "source": [
    "plt.plot(range(N), loss_hist)"
   ]
  },
  {
   "cell_type": "code",
   "execution_count": null,
   "metadata": {},
   "outputs": [
    {
     "name": "stdout",
     "output_type": "stream",
     "text": [
      "tensor(0.0736, grad_fn=<MeanBackward0>)\n"
     ]
    }
   ],
   "source": [
    "import torch.nn.functional as F\n",
    "\n",
    "yp = model(x_test)\n",
    "loss = F.l1_loss(yp.squeeze(), y_test)  \n",
    "print(loss)  "
   ]
  }
 ],
 "metadata": {
  "kernelspec": {
   "display_name": "venv",
   "language": "python",
   "name": "python3"
  },
  "language_info": {
   "codemirror_mode": {
    "name": "ipython",
    "version": 3
   },
   "file_extension": ".py",
   "mimetype": "text/x-python",
   "name": "python",
   "nbconvert_exporter": "python",
   "pygments_lexer": "ipython3",
   "version": "3.13.1"
  }
 },
 "nbformat": 4,
 "nbformat_minor": 2
}
