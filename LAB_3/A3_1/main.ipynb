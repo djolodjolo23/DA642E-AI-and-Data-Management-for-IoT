{
 "cells": [
  {
   "cell_type": "markdown",
   "metadata": {},
   "source": [
    "# Task A.3.1: Handwriting Recognition (8 points- Mandatory)\n",
    "Import the MNIST dataset.\n",
    "- I-Use linear regression and SVM (with Linear kernel) and Random Forest(with a maximum depth of your choice) algorithms to classify the hand-written numbers in 10 output classes (0-9) (5 pts-Mandatory)"
   ]
  },
  {
   "cell_type": "code",
   "execution_count": 31,
   "metadata": {},
   "outputs": [],
   "source": [
    "import torch\n",
    "import torch.nn as nn\n",
    "import torch.optim as optim\n",
    "from torchvision import datasets, transforms\n",
    "from torch.utils.data import DataLoader\n",
    "\n",
    "import numpy as np\n",
    "import matplotlib.pyplot as plt\n",
    "\n",
    "from sklearn.svm import SVC\n",
    "from sklearn.ensemble import RandomForestClassifier\n",
    "from sklearn.metrics import mean_squared_error, accuracy_score\n",
    "from sklearn.model_selection import train_test_split\n",
    "from sklearn.preprocessing import StandardScaler\n"
   ]
  },
  {
   "cell_type": "code",
   "execution_count": 32,
   "metadata": {},
   "outputs": [],
   "source": [
    "class SimpleLinearClassifier(nn.Module):\n",
    "    def __init__(self, input_dim, output_dim):\n",
    "        super(SimpleLinearClassifier, self).__init__()\n",
    "        self.fc = nn.Linear(input_dim, output_dim)\n",
    "\n",
    "    def forward(self, x):\n",
    "        return self.fc(x)\n"
   ]
  },
  {
   "cell_type": "code",
   "execution_count": null,
   "metadata": {},
   "outputs": [],
   "source": [
    "def train_pytorch_model(epochs=10, batch_size=32, learning_rate=0.01):\n",
    "    transform = transforms.Compose([transforms.ToTensor(),\n",
    "                                    transforms.Lambda(lambda x: x.view(-1))])\n",
    "    train_dataset = datasets.MNIST(root='./data', train=True, transform=transform, download=True)\n",
    "    test_dataset  = datasets.MNIST(root='./data', train=False, transform=transform, download=True)\n",
    "    \n",
    "    train_subset = torch.utils.data.Subset(train_dataset, list(range(10000)))\n",
    "    \n",
    "    train_loader = DataLoader(train_subset, batch_size=batch_size, shuffle=True)\n",
    "    test_loader  = DataLoader(test_dataset, batch_size=10000, shuffle=False)\n",
    "    \n",
    "    device = torch.device(\"cpu\")\n",
    "    \n",
    "    input_dim = 28*28\n",
    "    output_dim = 10\n",
    "    model = SimpleLinearClassifier(input_dim, output_dim).to(device)\n",
    "    \n",
    "    loss_fn = nn.MSELoss()\n",
    "    optimizer = optim.Adam(model.parameters(), lr=learning_rate)\n",
    "    \n",
    "    mse_history = []\n",
    "    \n",
    "    test_images, test_labels = next(iter(test_loader))\n",
    "    test_images = test_images.to(device)\n",
    "    test_labels_onehot = nn.functional.one_hot(test_labels, num_classes=10).float().to(device)\n",
    "    \n",
    "    for epoch in range(epochs):\n",
    "        model.train()\n",
    "        for images, labels in train_loader:\n",
    "            images = images.to(device)\n",
    "            labels = labels.to(device)\n",
    "            labels_onehot = nn.functional.one_hot(labels, num_classes=10).float()\n",
    "            \n",
    "            optimizer.zero_grad()\n",
    "            outputs = model(images)\n",
    "            loss = loss_fn(outputs, labels_onehot)\n",
    "            loss.backward()\n",
    "            optimizer.step()\n",
    "        \n",
    "        model.eval()\n",
    "        with torch.no_grad():\n",
    "            outputs = model(test_images)\n",
    "            epoch_mse = loss_fn(outputs, test_labels_onehot).item()\n",
    "        mse_history.append(epoch_mse)\n",
    "        print(f\"Epoch {epoch+1}/{epochs} - MSE: {epoch_mse:.4f}\")\n",
    "    \n",
    "    return mse_history\n"
   ]
  },
  {
   "cell_type": "code",
   "execution_count": null,
   "metadata": {},
   "outputs": [],
   "source": [
    "def train_sklearn_models():\n",
    "    transform = transforms.Compose([transforms.ToTensor(),\n",
    "                                    transforms.Lambda(lambda x: x.view(-1))])\n",
    "    \n",
    "    train_dataset = datasets.MNIST(root='./data', train=True, transform=transform, download=True)\n",
    "    test_dataset  = datasets.MNIST(root='./data', train=False, transform=transform, download=True)\n",
    "\n",
    "    train_data = train_dataset.data[:10000].view(-1, 28*28).numpy().astype(np.float64)\n",
    "    train_labels = train_dataset.targets[:10000].numpy()\n",
    "    test_data = test_dataset.data.view(-1, 28*28).numpy().astype(np.float64)\n",
    "    test_labels = test_dataset.targets.numpy()\n",
    "    \n",
    "    scaler = StandardScaler()\n",
    "    train_data = scaler.fit_transform(train_data)\n",
    "    test_data  = scaler.transform(test_data)\n",
    "    \n",
    "    # svm\n",
    "    svm_model = SVC(kernel=\"linear\", random_state=42)\n",
    "    svm_model.fit(train_data, train_labels)\n",
    "    svm_preds = svm_model.predict(test_data)\n",
    "    svm_mse = mean_squared_error(test_labels, svm_preds)\n",
    "    svm_accuracy = accuracy_score(test_labels, svm_preds)\n",
    "    print(f\"SVM - Accuracy: {svm_accuracy*100:.2f}%, MSE: {svm_mse:.4f}\")\n",
    "    \n",
    "     # rf  \n",
    "    rf_model = RandomForestClassifier(max_depth=10, n_estimators=50, random_state=42)\n",
    "    rf_model.fit(train_data, train_labels)\n",
    "    rf_preds = rf_model.predict(test_data)\n",
    "    rf_mse = mean_squared_error(test_labels, rf_preds)\n",
    "    rf_accuracy = accuracy_score(test_labels, rf_preds)\n",
    "    print(f\"RF - Accuracy: {rf_accuracy*100:.2f}%, MSE: {rf_mse:.4f}\")\n",
    "    \n",
    "    return svm_mse, rf_mse\n"
   ]
  },
  {
   "cell_type": "code",
   "execution_count": 35,
   "metadata": {},
   "outputs": [],
   "source": [
    "def plot_errors(lr_mse, svm_mse, rf_mse):\n",
    "    epochs = np.arange(1, len(lr_mse) + 1)\n",
    "    \n",
    "    plt.figure(figsize=(10,6))\n",
    "    plt.plot(epochs, lr_mse, 'r-o', label=\"PyTorch LR\")\n",
    "    \n",
    "    plt.plot([1, epochs[-1]], [svm_mse, svm_mse], 'b--', label=\"SVM\") \n",
    "    plt.plot([1, epochs[-1]], [rf_mse, rf_mse], 'g-.', label=\"RF\")  \n",
    "\n",
    "    \n",
    "    plt.xlabel(\"Epoch\")\n",
    "    plt.ylabel(\"MSE\")\n",
    "    plt.title(\"MSE vs Epoch: PyTorch LR vs. SVM and RF\")\n",
    "    plt.legend(loc=\"upper right\")\n",
    "    plt.grid(True)\n",
    "    plt.show()\n"
   ]
  },
  {
   "cell_type": "code",
   "execution_count": 36,
   "metadata": {},
   "outputs": [
    {
     "name": "stdout",
     "output_type": "stream",
     "text": [
      "Epoch 1/10 - MSE: 0.0592\n",
      "Epoch 2/10 - MSE: 0.0686\n",
      "Epoch 3/10 - MSE: 0.0614\n",
      "Epoch 4/10 - MSE: 0.0758\n",
      "Epoch 5/10 - MSE: 0.0711\n",
      "Epoch 6/10 - MSE: 0.0643\n",
      "Epoch 7/10 - MSE: 0.0749\n",
      "Epoch 8/10 - MSE: 0.0694\n",
      "Epoch 9/10 - MSE: 0.0619\n",
      "Epoch 10/10 - MSE: 0.0650\n",
      "SVM - Accuracy: 91.31%, MSE: 1.4444\n",
      "RF - Accuracy: 93.50%, MSE: 1.0997\n"
     ]
    },
    {
     "data": {
      "image/png": "[encoded data removed]",
      "text/plain": [
       "<Figure size 1000x600 with 1 Axes>"
      ]
     },
     "metadata": {},
     "output_type": "display_data"
    }
   ],
   "source": [
    "lr_mse_history = train_pytorch_model(epochs=10, batch_size=32, learning_rate=0.01)\n",
    "svm_mse_value, rf_mse_value = train_sklearn_models()\n",
    "plot_errors(lr_mse_history, svm_mse_value, rf_mse_value)\n"
   ]
  }
 ],
 "metadata": {
  "kernelspec": {
   "display_name": "global_venv",
   "language": "python",
   "name": "python3"
  },
  "language_info": {
   "codemirror_mode": {
    "name": "ipython",
    "version": 3
   },
   "file_extension": ".py",
   "mimetype": "text/x-python",
   "name": "python",
   "nbconvert_exporter": "python",
   "pygments_lexer": "ipython3",
   "version": "3.13.1"
  }
 },
 "nbformat": 4,
 "nbformat_minor": 2
}
