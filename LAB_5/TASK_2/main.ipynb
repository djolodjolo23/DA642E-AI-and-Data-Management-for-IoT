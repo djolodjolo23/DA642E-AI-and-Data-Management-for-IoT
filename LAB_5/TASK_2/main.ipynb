{
 "cells": [
  {
   "cell_type": "code",
   "execution_count": 1,
   "metadata": {},
   "outputs": [],
   "source": [
    "from pyspark.sql import SparkSession"
   ]
  },
  {
   "cell_type": "code",
   "execution_count": 2,
   "metadata": {},
   "outputs": [
    {
     "name": "stderr",
     "output_type": "stream",
     "text": [
      "25/02/28 13:21:31 WARN Utils: Your hostname, Djordjes-MacBook-Pro.local resolves to a loopback address: 127.0.0.1; using 192.168.0.33 instead (on interface en0)\n",
      "25/02/28 13:21:31 WARN Utils: Set SPARK_LOCAL_IP if you need to bind to another address\n",
      "Setting default log level to \"WARN\".\n",
      "To adjust logging level use sc.setLogLevel(newLevel). For SparkR, use setLogLevel(newLevel).\n",
      "25/02/28 13:21:31 WARN NativeCodeLoader: Unable to load native-hadoop library for your platform... using builtin-java classes where applicable\n"
     ]
    },
    {
     "data": {
      "text/html": [
       "\n",
       "            <div>\n",
       "                <p><b>SparkSession - in-memory</b></p>\n",
       "                \n",
       "        <div>\n",
       "            <p><b>SparkContext</b></p>\n",
       "\n",
       "            <p><a href=\"http://192.168.0.33:4040\">Spark UI</a></p>\n",
       "\n",
       "            <dl>\n",
       "              <dt>Version</dt>\n",
       "                <dd><code>v3.5.5</code></dd>\n",
       "              <dt>Master</dt>\n",
       "                <dd><code>local[*]</code></dd>\n",
       "              <dt>AppName</dt>\n",
       "                <dd><code>Titanic Data</code></dd>\n",
       "            </dl>\n",
       "        </div>\n",
       "        \n",
       "            </div>\n",
       "        "
      ],
      "text/plain": [
       "<pyspark.sql.session.SparkSession at 0x106a78290>"
      ]
     },
     "execution_count": 2,
     "metadata": {},
     "output_type": "execute_result"
    }
   ],
   "source": [
    "spark = SparkSession \\\n",
    "    .builder \\\n",
    "    .appName(\"Titanic Data\") \\\n",
    "    .config(\"spark.driver.extraJavaOptions\", \"-Djava.security.manager=allow\") \\\n",
    "    .getOrCreate()\n",
    "\n",
    "spark"
   ]
  },
  {
   "cell_type": "code",
   "execution_count": 7,
   "metadata": {},
   "outputs": [
    {
     "name": "stdout",
     "output_type": "stream",
     "text": [
      "+-----------+--------+------+--------------------+------+---+-----+-----+----------------+-------+-----+--------+\n",
      "|PassengerId|Survived|Pclass|                Name|   Sex|Age|SibSp|Parch|          Ticket|   Fare|Cabin|Embarked|\n",
      "+-----------+--------+------+--------------------+------+---+-----+-----+----------------+-------+-----+--------+\n",
      "|          1|       0|     3|Braund, Mr. Owen ...|  male| 22|    1|    0|       A/5 21171|   7.25| NULL|       S|\n",
      "|          2|       1|     1|Cumings, Mrs. Joh...|female| 38|    1|    0|        PC 17599|71.2833|  C85|       C|\n",
      "|          3|       1|     3|Heikkinen, Miss. ...|female| 26|    0|    0|STON/O2. 3101282|  7.925| NULL|       S|\n",
      "+-----------+--------+------+--------------------+------+---+-----+-----+----------------+-------+-----+--------+\n",
      "only showing top 3 rows\n",
      "\n"
     ]
    }
   ],
   "source": [
    "df = (spark.read\n",
    "      .format(\"csv\")\n",
    "      .option(\"header\", \"true\")\n",
    "      .load(\"titanic/train.csv\"))\n",
    "\n",
    "df.show(3)"
   ]
  },
  {
   "cell_type": "code",
   "execution_count": 8,
   "metadata": {},
   "outputs": [],
   "source": [
    "from pyspark.sql import functions as F\n",
    "from pyspark.sql import types as T"
   ]
  },
  {
   "cell_type": "code",
   "execution_count": 4,
   "metadata": {},
   "outputs": [],
   "source": [
    "from pyspark.ml.feature import StringIndexer, OneHotEncoder, VectorAssembler"
   ]
  },
  {
   "cell_type": "code",
   "execution_count": 9,
   "metadata": {},
   "outputs": [],
   "source": [
    "from pyspark.ml.classification import RandomForestClassifier"
   ]
  },
  {
   "cell_type": "code",
   "execution_count": 10,
   "metadata": {},
   "outputs": [],
   "source": [
    "from pyspark.ml import Pipeline"
   ]
  },
  {
   "cell_type": "code",
   "execution_count": 13,
   "metadata": {},
   "outputs": [
    {
     "name": "stdout",
     "output_type": "stream",
     "text": [
      "Number of training records: 703\n",
      "Number of testing records: 188\n"
     ]
    }
   ],
   "source": [
    "(train_df, test_df) = df.randomSplit([0.8, 0.2], 11)\n",
    "print('Number of training records: {}'.format(train_df.count()))\n",
    "print('Number of testing records: {}'.format(test_df.count()))"
   ]
  },
  {
   "cell_type": "code",
   "execution_count": 16,
   "metadata": {},
   "outputs": [],
   "source": [
    "Sex_indexer = StringIndexer(inputCol=\"Sex\", outputCol=\"Gender\")\n",
    "Embarker_indexer = StringIndexer(inputCol=\"Embarked\", outputCol=\"Boarder\")"
   ]
  },
  {
   "cell_type": "code",
   "execution_count": 19,
   "metadata": {},
   "outputs": [],
   "source": [
    "inputCols = [\"Pclass\", \"Age\", \"Fare\", \"Gender\", \"Boarder\"]\n",
    "output_cols = \"features\"\n",
    "\n",
    "vector_assembler = VectorAssembler(inputCols=inputCols, outputCol=output_cols)\n",
    "\n",
    "dt_model = RandomForestClassifier(featuresCol=\"features\", labelCol=\"Survived\")"
   ]
  },
  {
   "cell_type": "code",
   "execution_count": null,
   "metadata": {},
   "outputs": [
    {
     "name": "stdout",
     "output_type": "stream",
     "text": [
      "root\n",
      " |-- PassengerId: string (nullable = true)\n",
      " |-- Survived: integer (nullable = true)\n",
      " |-- Pclass: integer (nullable = true)\n",
      " |-- Name: string (nullable = true)\n",
      " |-- Sex: string (nullable = true)\n",
      " |-- Age: double (nullable = true)\n",
      " |-- SibSp: string (nullable = true)\n",
      " |-- Parch: string (nullable = true)\n",
      " |-- Ticket: string (nullable = true)\n",
      " |-- Fare: double (nullable = true)\n",
      " |-- Cabin: string (nullable = true)\n",
      " |-- Embarked: string (nullable = true)\n",
      "\n",
      "root\n",
      " |-- PassengerId: string (nullable = true)\n",
      " |-- Survived: string (nullable = true)\n",
      " |-- Pclass: integer (nullable = true)\n",
      " |-- Name: string (nullable = true)\n",
      " |-- Sex: string (nullable = true)\n",
      " |-- Age: double (nullable = true)\n",
      " |-- SibSp: string (nullable = true)\n",
      " |-- Parch: string (nullable = true)\n",
      " |-- Ticket: string (nullable = true)\n",
      " |-- Fare: double (nullable = true)\n",
      " |-- Cabin: string (nullable = true)\n",
      " |-- Embarked: string (nullable = true)\n",
      "\n"
     ]
    }
   ],
   "source": [
    "from pyspark.sql.functions import col\n",
    "\n",
    "train_df = train_df.withColumn(\"Pclass\", col(\"Pclass\").cast(\"integer\"))\n",
    "train_df = train_df.withColumn(\"Age\", col(\"Age\").cast(\"double\"))\n",
    "train_df = train_df.withColumn(\"Fare\", col(\"Fare\").cast(\"double\"))\n",
    "train_df = train_df.withColumn(\"Survived\", col(\"Survived\").cast(\"integer\"))\n",
    "\n",
    "\n",
    "test_df = test_df.withColumn(\"Pclass\", col(\"Pclass\").cast(\"integer\"))\n",
    "test_df = test_df.withColumn(\"Age\", col(\"Age\").cast(\"double\"))\n",
    "test_df = test_df.withColumn(\"Fare\", col(\"Fare\").cast(\"double\"))\n",
    "\n",
    "train_df = train_df.na.drop()\n",
    "test_df = test_df.na.drop()\n",
    "\n",
    "train_df.printSchema()\n",
    "test_df.printSchema()\n"
   ]
  },
  {
   "cell_type": "code",
   "execution_count": 27,
   "metadata": {},
   "outputs": [
    {
     "name": "stdout",
     "output_type": "stream",
     "text": [
      "+-----------+--------+------+-----------------------------------------+------+----+-----+-----+--------+-------+-----+--------+------+-------+--------------------------+---------------------------------------+----------------------------------------+----------+\n",
      "|PassengerId|Survived|Pclass|Name                                     |Sex   |Age |SibSp|Parch|Ticket  |Fare   |Cabin|Embarked|Gender|Boarder|features                  |rawPrediction                          |probability                             |prediction|\n",
      "+-----------+--------+------+-----------------------------------------+------+----+-----+-----+--------+-------+-----+--------+------+-------+--------------------------+---------------------------------------+----------------------------------------+----------+\n",
      "|103        |0       |1     |White, Mr. Richard Frasar                |male  |21.0|0    |1    |35281   |77.2875|D26  |S       |0.0   |0.0    |[1.0,21.0,77.2875,0.0,0.0]|[9.758230610939687,10.241769389060313] |[0.4879115305469844,0.5120884694530157] |1.0       |\n",
      "|11         |1       |3     |Sandstrom, Miss. Marguerite Rut          |female|4.0 |1    |1    |PP 9549 |16.7   |G6   |S       |1.0   |0.0    |[3.0,4.0,16.7,1.0,0.0]    |[1.321508943785517,18.678491056214483] |[0.06607544718927585,0.9339245528107242]|1.0       |\n",
      "|111        |0       |1     |Porter, Mr. Walter Chamberlain           |male  |47.0|0    |0    |110465  |52.0   |C110 |S       |0.0   |0.0    |[1.0,47.0,52.0,0.0,0.0]   |[16.352035498737898,3.6479645012621016]|[0.8176017749368949,0.18239822506310507]|0.0       |\n",
      "|125        |0       |1     |White, Mr. Percival Wayland              |male  |54.0|0    |1    |35281   |77.2875|D26  |S       |0.0   |0.0    |[1.0,54.0,77.2875,0.0,0.0]|[13.59165093800168,6.408349061998325]  |[0.6795825469000839,0.3204174530999162] |0.0       |\n",
      "|195        |1       |1     |Brown, Mrs. James Joseph (Margaret Tobin)|female|44.0|0    |0    |PC 17610|27.7208|B4   |C       |1.0   |1.0    |[1.0,44.0,27.7208,1.0,1.0]|[4.198900019440816,15.801099980559183] |[0.2099450009720408,0.7900549990279592] |1.0       |\n",
      "+-----------+--------+------+-----------------------------------------+------+----+-----+-----+--------+-------+-----+--------+------+-------+--------------------------+---------------------------------------+----------------------------------------+----------+\n",
      "only showing top 5 rows\n",
      "\n"
     ]
    }
   ],
   "source": [
    "pipeline = Pipeline(stages=[Sex_indexer, Embarker_indexer, vector_assembler, dt_model])\n",
    "\n",
    "final_pipeline = pipeline.fit(train_df)\n",
    "\n",
    "test_predictions_from_pipeline = final_pipeline.transform(test_df)\n",
    "test_predictions_from_pipeline.show(5, truncate=False)"
   ]
  }
 ],
 "metadata": {
  "kernelspec": {
   "display_name": "venv",
   "language": "python",
   "name": "python3"
  },
  "language_info": {
   "codemirror_mode": {
    "name": "ipython",
    "version": 3
   },
   "file_extension": ".py",
   "mimetype": "text/x-python",
   "name": "python",
   "nbconvert_exporter": "python",
   "pygments_lexer": "ipython3",
   "version": "3.11.11"
  }
 },
 "nbformat": 4,
 "nbformat_minor": 2
}
